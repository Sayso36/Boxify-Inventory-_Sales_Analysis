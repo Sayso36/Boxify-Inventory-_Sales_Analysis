{
 "cells": [
  {
   "cell_type": "code",
   "execution_count": 23,
   "id": "f8a1967c",
   "metadata": {},
   "outputs": [],
   "source": [
    "#Data Handling Library\n",
    "import os\n",
    "import pandas as pd #Data processing\n",
    "import numpy as np #Linear Algebra\n",
    "\n",
    "#Visualization Library\n",
    "import matplotlib.pyplot as plt\n",
    "import seaborn as sns"
   ]
  },
  {
   "cell_type": "code",
   "execution_count": 24,
   "id": "d6c358a3",
   "metadata": {},
   "outputs": [],
   "source": [
    "df = pd.read_csv(r'C:\\Users\\Admin\\Downloads\\Boxify Dataset.csv')"
   ]
  },
  {
   "cell_type": "code",
   "execution_count": 25,
   "id": "631ce241",
   "metadata": {},
   "outputs": [
    {
     "data": {
      "text/html": [
       "<div>\n",
       "<style scoped>\n",
       "    .dataframe tbody tr th:only-of-type {\n",
       "        vertical-align: middle;\n",
       "    }\n",
       "\n",
       "    .dataframe tbody tr th {\n",
       "        vertical-align: top;\n",
       "    }\n",
       "\n",
       "    .dataframe thead th {\n",
       "        text-align: right;\n",
       "    }\n",
       "</style>\n",
       "<table border=\"1\" class=\"dataframe\">\n",
       "  <thead>\n",
       "    <tr style=\"text-align: right;\">\n",
       "      <th></th>\n",
       "      <th>Order</th>\n",
       "      <th>File_Type</th>\n",
       "      <th>SKU_number</th>\n",
       "      <th>SoldFlag</th>\n",
       "      <th>SoldCount</th>\n",
       "      <th>MarketingType</th>\n",
       "      <th>ReleaseNumber</th>\n",
       "      <th>New_Release_Flag</th>\n",
       "      <th>StrengthFactor</th>\n",
       "      <th>PriceReg</th>\n",
       "      <th>ReleaseYear</th>\n",
       "      <th>ItemCount</th>\n",
       "      <th>LowUserPrice</th>\n",
       "      <th>LowNetPrice</th>\n",
       "    </tr>\n",
       "  </thead>\n",
       "  <tbody>\n",
       "    <tr>\n",
       "      <th>0</th>\n",
       "      <td>2</td>\n",
       "      <td>Historical</td>\n",
       "      <td>1737127</td>\n",
       "      <td>0.0</td>\n",
       "      <td>0.0</td>\n",
       "      <td>D</td>\n",
       "      <td>15</td>\n",
       "      <td>1</td>\n",
       "      <td>682743.0</td>\n",
       "      <td>44.99</td>\n",
       "      <td>2015</td>\n",
       "      <td>8</td>\n",
       "      <td>28.97</td>\n",
       "      <td>31.84</td>\n",
       "    </tr>\n",
       "    <tr>\n",
       "      <th>1</th>\n",
       "      <td>3</td>\n",
       "      <td>Historical</td>\n",
       "      <td>3255963</td>\n",
       "      <td>0.0</td>\n",
       "      <td>0.0</td>\n",
       "      <td>D</td>\n",
       "      <td>7</td>\n",
       "      <td>1</td>\n",
       "      <td>1016014.0</td>\n",
       "      <td>24.81</td>\n",
       "      <td>2005</td>\n",
       "      <td>39</td>\n",
       "      <td>0.00</td>\n",
       "      <td>15.54</td>\n",
       "    </tr>\n",
       "    <tr>\n",
       "      <th>2</th>\n",
       "      <td>4</td>\n",
       "      <td>Historical</td>\n",
       "      <td>612701</td>\n",
       "      <td>0.0</td>\n",
       "      <td>0.0</td>\n",
       "      <td>D</td>\n",
       "      <td>0</td>\n",
       "      <td>0</td>\n",
       "      <td>340464.0</td>\n",
       "      <td>46.00</td>\n",
       "      <td>2013</td>\n",
       "      <td>34</td>\n",
       "      <td>30.19</td>\n",
       "      <td>27.97</td>\n",
       "    </tr>\n",
       "    <tr>\n",
       "      <th>3</th>\n",
       "      <td>6</td>\n",
       "      <td>Historical</td>\n",
       "      <td>115883</td>\n",
       "      <td>1.0</td>\n",
       "      <td>1.0</td>\n",
       "      <td>D</td>\n",
       "      <td>4</td>\n",
       "      <td>1</td>\n",
       "      <td>334011.0</td>\n",
       "      <td>100.00</td>\n",
       "      <td>2006</td>\n",
       "      <td>20</td>\n",
       "      <td>133.93</td>\n",
       "      <td>83.15</td>\n",
       "    </tr>\n",
       "    <tr>\n",
       "      <th>4</th>\n",
       "      <td>7</td>\n",
       "      <td>Historical</td>\n",
       "      <td>863939</td>\n",
       "      <td>1.0</td>\n",
       "      <td>1.0</td>\n",
       "      <td>D</td>\n",
       "      <td>2</td>\n",
       "      <td>1</td>\n",
       "      <td>1287938.0</td>\n",
       "      <td>121.95</td>\n",
       "      <td>2010</td>\n",
       "      <td>28</td>\n",
       "      <td>4.00</td>\n",
       "      <td>23.99</td>\n",
       "    </tr>\n",
       "  </tbody>\n",
       "</table>\n",
       "</div>"
      ],
      "text/plain": [
       "   Order   File_Type  SKU_number  SoldFlag  SoldCount MarketingType  \\\n",
       "0      2  Historical     1737127       0.0        0.0             D   \n",
       "1      3  Historical     3255963       0.0        0.0             D   \n",
       "2      4  Historical      612701       0.0        0.0             D   \n",
       "3      6  Historical      115883       1.0        1.0             D   \n",
       "4      7  Historical      863939       1.0        1.0             D   \n",
       "\n",
       "   ReleaseNumber  New_Release_Flag  StrengthFactor  PriceReg  ReleaseYear  \\\n",
       "0             15                 1        682743.0     44.99         2015   \n",
       "1              7                 1       1016014.0     24.81         2005   \n",
       "2              0                 0        340464.0     46.00         2013   \n",
       "3              4                 1        334011.0    100.00         2006   \n",
       "4              2                 1       1287938.0    121.95         2010   \n",
       "\n",
       "   ItemCount  LowUserPrice  LowNetPrice  \n",
       "0          8         28.97        31.84  \n",
       "1         39          0.00        15.54  \n",
       "2         34         30.19        27.97  \n",
       "3         20        133.93        83.15  \n",
       "4         28          4.00        23.99  "
      ]
     },
     "execution_count": 25,
     "metadata": {},
     "output_type": "execute_result"
    }
   ],
   "source": [
    "df.head()"
   ]
  },
  {
   "cell_type": "code",
   "execution_count": 26,
   "id": "afb11ea6",
   "metadata": {},
   "outputs": [
    {
     "name": "stdout",
     "output_type": "stream",
     "text": [
      "<class 'pandas.core.frame.DataFrame'>\n",
      "RangeIndex: 198917 entries, 0 to 198916\n",
      "Data columns (total 14 columns):\n",
      " #   Column            Non-Null Count   Dtype  \n",
      "---  ------            --------------   -----  \n",
      " 0   Order             198917 non-null  int64  \n",
      " 1   File_Type         198917 non-null  object \n",
      " 2   SKU_number        198917 non-null  int64  \n",
      " 3   SoldFlag          75996 non-null   float64\n",
      " 4   SoldCount         75996 non-null   float64\n",
      " 5   MarketingType     198917 non-null  object \n",
      " 6   ReleaseNumber     198917 non-null  int64  \n",
      " 7   New_Release_Flag  198917 non-null  int64  \n",
      " 8   StrengthFactor    198917 non-null  float64\n",
      " 9   PriceReg          198917 non-null  float64\n",
      " 10  ReleaseYear       198917 non-null  int64  \n",
      " 11  ItemCount         198917 non-null  int64  \n",
      " 12  LowUserPrice      198917 non-null  float64\n",
      " 13  LowNetPrice       198917 non-null  float64\n",
      "dtypes: float64(6), int64(6), object(2)\n",
      "memory usage: 21.2+ MB\n"
     ]
    }
   ],
   "source": [
    "df.info()"
   ]
  },
  {
   "cell_type": "code",
   "execution_count": 27,
   "id": "d37f1558",
   "metadata": {},
   "outputs": [
    {
     "data": {
      "text/html": [
       "<div>\n",
       "<style scoped>\n",
       "    .dataframe tbody tr th:only-of-type {\n",
       "        vertical-align: middle;\n",
       "    }\n",
       "\n",
       "    .dataframe tbody tr th {\n",
       "        vertical-align: top;\n",
       "    }\n",
       "\n",
       "    .dataframe thead th {\n",
       "        text-align: right;\n",
       "    }\n",
       "</style>\n",
       "<table border=\"1\" class=\"dataframe\">\n",
       "  <thead>\n",
       "    <tr style=\"text-align: right;\">\n",
       "      <th></th>\n",
       "      <th>Order</th>\n",
       "      <th>SKU_number</th>\n",
       "      <th>SoldFlag</th>\n",
       "      <th>SoldCount</th>\n",
       "      <th>ReleaseNumber</th>\n",
       "      <th>New_Release_Flag</th>\n",
       "      <th>StrengthFactor</th>\n",
       "      <th>PriceReg</th>\n",
       "      <th>ReleaseYear</th>\n",
       "      <th>ItemCount</th>\n",
       "      <th>LowUserPrice</th>\n",
       "      <th>LowNetPrice</th>\n",
       "    </tr>\n",
       "  </thead>\n",
       "  <tbody>\n",
       "    <tr>\n",
       "      <th>count</th>\n",
       "      <td>198917.000000</td>\n",
       "      <td>1.989170e+05</td>\n",
       "      <td>75996.000000</td>\n",
       "      <td>75996.000000</td>\n",
       "      <td>198917.000000</td>\n",
       "      <td>198917.000000</td>\n",
       "      <td>1.989170e+05</td>\n",
       "      <td>198917.000000</td>\n",
       "      <td>198917.000000</td>\n",
       "      <td>198917.000000</td>\n",
       "      <td>198917.000000</td>\n",
       "      <td>198917.000000</td>\n",
       "    </tr>\n",
       "    <tr>\n",
       "      <th>mean</th>\n",
       "      <td>106483.543242</td>\n",
       "      <td>8.613626e+05</td>\n",
       "      <td>0.171009</td>\n",
       "      <td>0.322306</td>\n",
       "      <td>3.412202</td>\n",
       "      <td>0.642248</td>\n",
       "      <td>1.117115e+06</td>\n",
       "      <td>90.895243</td>\n",
       "      <td>2006.016414</td>\n",
       "      <td>41.426283</td>\n",
       "      <td>30.982487</td>\n",
       "      <td>46.832053</td>\n",
       "    </tr>\n",
       "    <tr>\n",
       "      <th>std</th>\n",
       "      <td>60136.716784</td>\n",
       "      <td>8.699794e+05</td>\n",
       "      <td>0.376519</td>\n",
       "      <td>1.168615</td>\n",
       "      <td>3.864243</td>\n",
       "      <td>0.479340</td>\n",
       "      <td>1.522090e+06</td>\n",
       "      <td>86.736367</td>\n",
       "      <td>9.158331</td>\n",
       "      <td>37.541215</td>\n",
       "      <td>69.066155</td>\n",
       "      <td>128.513236</td>\n",
       "    </tr>\n",
       "    <tr>\n",
       "      <th>min</th>\n",
       "      <td>2.000000</td>\n",
       "      <td>5.000100e+04</td>\n",
       "      <td>0.000000</td>\n",
       "      <td>0.000000</td>\n",
       "      <td>0.000000</td>\n",
       "      <td>0.000000</td>\n",
       "      <td>6.275000e+00</td>\n",
       "      <td>0.000000</td>\n",
       "      <td>0.000000</td>\n",
       "      <td>0.000000</td>\n",
       "      <td>0.000000</td>\n",
       "      <td>0.000000</td>\n",
       "    </tr>\n",
       "    <tr>\n",
       "      <th>25%</th>\n",
       "      <td>55665.000000</td>\n",
       "      <td>2.172520e+05</td>\n",
       "      <td>0.000000</td>\n",
       "      <td>0.000000</td>\n",
       "      <td>1.000000</td>\n",
       "      <td>0.000000</td>\n",
       "      <td>1.614188e+05</td>\n",
       "      <td>42.000000</td>\n",
       "      <td>2003.000000</td>\n",
       "      <td>21.000000</td>\n",
       "      <td>4.910000</td>\n",
       "      <td>17.950000</td>\n",
       "    </tr>\n",
       "    <tr>\n",
       "      <th>50%</th>\n",
       "      <td>108569.000000</td>\n",
       "      <td>6.122080e+05</td>\n",
       "      <td>0.000000</td>\n",
       "      <td>0.000000</td>\n",
       "      <td>2.000000</td>\n",
       "      <td>1.000000</td>\n",
       "      <td>5.822240e+05</td>\n",
       "      <td>69.950000</td>\n",
       "      <td>2007.000000</td>\n",
       "      <td>32.000000</td>\n",
       "      <td>16.080000</td>\n",
       "      <td>33.980000</td>\n",
       "    </tr>\n",
       "    <tr>\n",
       "      <th>75%</th>\n",
       "      <td>158298.000000</td>\n",
       "      <td>9.047510e+05</td>\n",
       "      <td>0.000000</td>\n",
       "      <td>0.000000</td>\n",
       "      <td>5.000000</td>\n",
       "      <td>1.000000</td>\n",
       "      <td>1.430083e+06</td>\n",
       "      <td>116.000000</td>\n",
       "      <td>2011.000000</td>\n",
       "      <td>50.000000</td>\n",
       "      <td>40.240000</td>\n",
       "      <td>55.490000</td>\n",
       "    </tr>\n",
       "    <tr>\n",
       "      <th>max</th>\n",
       "      <td>208027.000000</td>\n",
       "      <td>3.960788e+06</td>\n",
       "      <td>1.000000</td>\n",
       "      <td>73.000000</td>\n",
       "      <td>99.000000</td>\n",
       "      <td>1.000000</td>\n",
       "      <td>1.738445e+07</td>\n",
       "      <td>12671.480000</td>\n",
       "      <td>2018.000000</td>\n",
       "      <td>2542.000000</td>\n",
       "      <td>14140.210000</td>\n",
       "      <td>19138.790000</td>\n",
       "    </tr>\n",
       "  </tbody>\n",
       "</table>\n",
       "</div>"
      ],
      "text/plain": [
       "               Order    SKU_number      SoldFlag     SoldCount  ReleaseNumber  \\\n",
       "count  198917.000000  1.989170e+05  75996.000000  75996.000000  198917.000000   \n",
       "mean   106483.543242  8.613626e+05      0.171009      0.322306       3.412202   \n",
       "std     60136.716784  8.699794e+05      0.376519      1.168615       3.864243   \n",
       "min         2.000000  5.000100e+04      0.000000      0.000000       0.000000   \n",
       "25%     55665.000000  2.172520e+05      0.000000      0.000000       1.000000   \n",
       "50%    108569.000000  6.122080e+05      0.000000      0.000000       2.000000   \n",
       "75%    158298.000000  9.047510e+05      0.000000      0.000000       5.000000   \n",
       "max    208027.000000  3.960788e+06      1.000000     73.000000      99.000000   \n",
       "\n",
       "       New_Release_Flag  StrengthFactor       PriceReg    ReleaseYear  \\\n",
       "count     198917.000000    1.989170e+05  198917.000000  198917.000000   \n",
       "mean           0.642248    1.117115e+06      90.895243    2006.016414   \n",
       "std            0.479340    1.522090e+06      86.736367       9.158331   \n",
       "min            0.000000    6.275000e+00       0.000000       0.000000   \n",
       "25%            0.000000    1.614188e+05      42.000000    2003.000000   \n",
       "50%            1.000000    5.822240e+05      69.950000    2007.000000   \n",
       "75%            1.000000    1.430083e+06     116.000000    2011.000000   \n",
       "max            1.000000    1.738445e+07   12671.480000    2018.000000   \n",
       "\n",
       "           ItemCount   LowUserPrice    LowNetPrice  \n",
       "count  198917.000000  198917.000000  198917.000000  \n",
       "mean       41.426283      30.982487      46.832053  \n",
       "std        37.541215      69.066155     128.513236  \n",
       "min         0.000000       0.000000       0.000000  \n",
       "25%        21.000000       4.910000      17.950000  \n",
       "50%        32.000000      16.080000      33.980000  \n",
       "75%        50.000000      40.240000      55.490000  \n",
       "max      2542.000000   14140.210000   19138.790000  "
      ]
     },
     "execution_count": 27,
     "metadata": {},
     "output_type": "execute_result"
    }
   ],
   "source": [
    "df.describe()"
   ]
  },
  {
   "cell_type": "code",
   "execution_count": 28,
   "id": "b1301114",
   "metadata": {},
   "outputs": [
    {
     "data": {
      "text/plain": [
       "Order               198917\n",
       "File_Type                2\n",
       "SKU_number          133360\n",
       "SoldFlag                 2\n",
       "SoldCount               37\n",
       "MarketingType            2\n",
       "ReleaseNumber           71\n",
       "New_Release_Flag         2\n",
       "StrengthFactor      197424\n",
       "PriceReg             11627\n",
       "ReleaseYear             85\n",
       "ItemCount              501\n",
       "LowUserPrice         12102\n",
       "LowNetPrice          15403\n",
       "dtype: int64"
      ]
     },
     "execution_count": 28,
     "metadata": {},
     "output_type": "execute_result"
    }
   ],
   "source": [
    "#Checking number of unique values per column\n",
    "df.nunique()"
   ]
  },
  {
   "cell_type": "code",
   "execution_count": 29,
   "id": "6ec5a104",
   "metadata": {},
   "outputs": [
    {
     "data": {
      "text/plain": [
       "Order                    0\n",
       "File_Type                0\n",
       "SKU_number               0\n",
       "SoldFlag            122921\n",
       "SoldCount           122921\n",
       "MarketingType            0\n",
       "ReleaseNumber            0\n",
       "New_Release_Flag         0\n",
       "StrengthFactor           0\n",
       "PriceReg                 0\n",
       "ReleaseYear              0\n",
       "ItemCount                0\n",
       "LowUserPrice             0\n",
       "LowNetPrice              0\n",
       "dtype: int64"
      ]
     },
     "execution_count": 29,
     "metadata": {},
     "output_type": "execute_result"
    }
   ],
   "source": [
    "#Number of unique values, lets see why are there any in this file\n",
    "#Checking the number of null values per column\n",
    "df.isnull().sum()"
   ]
  },
  {
   "cell_type": "code",
   "execution_count": 30,
   "id": "2802f3e0",
   "metadata": {},
   "outputs": [],
   "source": [
    "#Handling the missing data \n",
    "df.fillna(method = \"ffill\", inplace = True)"
   ]
  },
  {
   "cell_type": "code",
   "execution_count": 31,
   "id": "73e2c799",
   "metadata": {},
   "outputs": [
    {
     "name": "stdout",
     "output_type": "stream",
     "text": [
      "Top Selling Products:\n",
      "SKU_number\n",
      "665269    73.0\n",
      "613864    69.0\n",
      "141848    51.0\n",
      "254518    40.0\n",
      "55769     36.0\n",
      "767846    36.0\n",
      "416609    35.0\n",
      "243550    34.0\n",
      "141824    33.0\n",
      "747765    30.0\n",
      "254192    28.0\n",
      "540449    27.0\n",
      "608089    27.0\n",
      "860747    27.0\n",
      "52194     26.0\n",
      "Name: SoldCount, dtype: float64\n"
     ]
    }
   ],
   "source": [
    "#Identifying top 15 selling products and categories\n",
    "top_products = df.groupby('SKU_number')['SoldCount'].sum().nlargest(15)\n",
    "print('Top Selling Products:')\n",
    "print(top_products)"
   ]
  },
  {
   "cell_type": "code",
   "execution_count": 32,
   "id": "e4d63aa3",
   "metadata": {},
   "outputs": [
    {
     "name": "stdout",
     "output_type": "stream",
     "text": [
      "Low stock items(0 for False, 1 for True):\n",
      "0         1\n",
      "1         0\n",
      "2         0\n",
      "3         0\n",
      "4         0\n",
      "         ..\n",
      "198912    0\n",
      "198913    0\n",
      "198914    0\n",
      "198915    0\n",
      "198916    0\n",
      "Name: ItemCount, Length: 198917, dtype: int32\n"
     ]
    }
   ],
   "source": [
    "#Investigating Stock levels and low stock items \n",
    "#For the items having counts less than 10 are considered as low stock items\n",
    "Low_stock_items = df['ItemCount'] < 10\n",
    "Low_stock_items = Low_stock_items.astype(int)#Converting boolean format into integer format\n",
    "print('Low stock items(0 for False, 1 for True):')\n",
    "print(Low_stock_items)"
   ]
  },
  {
   "cell_type": "code",
   "execution_count": 33,
   "id": "39d488a6",
   "metadata": {},
   "outputs": [
    {
     "name": "stdout",
     "output_type": "stream",
     "text": [
      "0.0029724314086028917\n",
      "336.42492038866664\n",
      "41.42628332420055\n"
     ]
    }
   ],
   "source": [
    "#Inventory Key Perfomance Insights\n",
    "#Calculate KPI:- \n",
    "Inventory_turnover = df['SoldCount'].sum() / df['ItemCount'].sum()\n",
    "Stock_to_sales_ratio = df['ItemCount'].sum() / df['SoldCount'].sum()\n",
    "reorder_point = df['ItemCount'].mean()\n",
    "\n",
    "print(Inventory_turnover)\n",
    "print(Stock_to_sales_ratio)\n",
    "print(reorder_point)"
   ]
  },
  {
   "cell_type": "code",
   "execution_count": 34,
   "id": "2469839c",
   "metadata": {},
   "outputs": [
    {
     "data": {
      "image/png": "[encoded data removed]",
      "text/plain": [
       "<Figure size 1000x800 with 1 Axes>"
      ]
     },
     "metadata": {},
     "output_type": "display_data"
    }
   ],
   "source": [
    "#Visualizing sales trend over time\n",
    "plt.figure(figsize=(10, 8))\n",
    "df.groupby('ReleaseYear')['SoldCount'].sum().plot(kind = 'line')\n",
    "plt.xlabel('Year')\n",
    "plt.ylabel('Total sales')\n",
    "plt.title('Sales trend over time')\n",
    "plt.grid(True)\n",
    "plt.show()"
   ]
  },
  {
   "cell_type": "code",
   "execution_count": 35,
   "id": "abff6e1b",
   "metadata": {},
   "outputs": [
    {
     "data": {
      "text/plain": [
       "' \\nAs can be observed from the graph above, sales increased by a respectably large amount in the year 2000. \\nHowever, sales data for the prior year is not available. \\n\\n'"
      ]
     },
     "execution_count": 35,
     "metadata": {},
     "output_type": "execute_result"
    }
   ],
   "source": [
    "''' \n",
    "As can be observed from the graph above, sales increased by a respectably large amount in the year 2000. \n",
    "However, sales data for the prior year is not available. \n",
    "\n",
    "'''"
   ]
  },
  {
   "cell_type": "code",
   "execution_count": 36,
   "id": "c8f7dc16",
   "metadata": {},
   "outputs": [
    {
     "data": {
      "image/png": "[encoded data removed]",
      "text/plain": [
       "<Figure size 1000x600 with 1 Axes>"
      ]
     },
     "metadata": {},
     "output_type": "display_data"
    }
   ],
   "source": [
    "#Visualizing Inventory metrics\n",
    "plt.figure(figsize=(10,6))\n",
    "Inventory_metrics = ['Inventory Turnover', 'Stock-to-Sales Ratio', 'Reorder Point']\n",
    "values =[Inventory_turnover, Stock_to_sales_ratio, reorder_point]\n",
    "plt.bar(Inventory_metrics, values, color=['Blue', 'Green', 'Orange'])\n",
    "plt.xlabel('Inventory Metrics')\n",
    "plt.ylabel('Values')\n",
    "plt.title('Inventory Metrics Analysis')\n",
    "plt.show()"
   ]
  },
  {
   "cell_type": "code",
   "execution_count": 37,
   "id": "ec037089",
   "metadata": {},
   "outputs": [
    {
     "data": {
      "text/plain": [
       "'\\nFrom the above graph, we can conclude, that there is a poor turnover of the inventory as the goods are not sold rapidly whereas\\n\\nthere is rapid increase in stock to sales ratio as the inventory is more than the sales.\\n\\nThe ratio of reorder point is relatively low due to moderately high inventory levels.\\n'"
      ]
     },
     "execution_count": 37,
     "metadata": {},
     "output_type": "execute_result"
    }
   ],
   "source": [
    "'''\n",
    "From the above graph, we can conclude, that there is a poor turnover of the inventory as the goods are not sold rapidly whereas\\n\n",
    "there is rapid increase in stock to sales ratio as the inventory is more than the sales.\\n\n",
    "The ratio of reorder point is relatively low due to moderately high inventory levels.\n",
    "'''"
   ]
  },
  {
   "cell_type": "code",
   "execution_count": 38,
   "id": "8db48415",
   "metadata": {},
   "outputs": [
    {
     "data": {
      "image/png": "[encoded data removed]",
      "text/plain": [
       "<Figure size 1000x600 with 1 Axes>"
      ]
     },
     "metadata": {},
     "output_type": "display_data"
    }
   ],
   "source": [
    "#Analyzing product performance\n",
    "plt.figure(figsize=(10,6))\n",
    "plt.scatter(df['PriceReg'], df['SoldCount'], alpha=0.5)\n",
    "plt.xlabel('Regular Price')\n",
    "plt.ylabel('Count of sold product')\n",
    "plt.title('Relationship between Price and Count')\n",
    "plt.grid(True)\n",
    "plt.show()"
   ]
  },
  {
   "cell_type": "code",
   "execution_count": 39,
   "id": "791e510b",
   "metadata": {},
   "outputs": [],
   "source": [
    "#Observation\n",
    "#From the above visualization we can conclude that with the increasing price the count of sold product is decreasing.\n",
    "#A downward trend in sold count as the price increases would indicate price sensitivity, suggesting that higher prices may result in lower sales volume."
   ]
  },
  {
   "cell_type": "code",
   "execution_count": 54,
   "id": "c057a93f",
   "metadata": {},
   "outputs": [
    {
     "data": {
      "image/png": "[encoded data removed]",
      "text/plain": [
       "<Figure size 1000x600 with 1 Axes>"
      ]
     },
     "metadata": {},
     "output_type": "display_data"
    }
   ],
   "source": [
    "#Distribution of Price by Year\n",
    "plt.figure(figsize=(10, 6))\n",
    "sns.histplot(data=df, x='ReleaseYear', y='PriceReg', bins=10, kde=True)\n",
    "plt.title('Distribution of Regular price by Release Year')\n",
    "plt.xlabel('Release Year')\n",
    "plt.ylabel('Regular Price')\n",
    "plt.show()"
   ]
  },
  {
   "cell_type": "code",
   "execution_count": 1,
   "id": "457ae0c1",
   "metadata": {},
   "outputs": [
    {
     "data": {
      "text/markdown": [
       "\n",
       "## Summary of Findings:\n",
       "### Data Overview:\n",
       "\n",
       "The dataset contains information about product sales, including SKU numbers, sold counts, item counts, prices, and release years.\n",
       "Initial exploration showed no missing values after filling them using forward fill method.\n",
       "Top Selling Products:\n",
       "\n",
       "Identified the top 15 selling products based on the sum of sold counts.\n",
       "### Inventory Insights:\n",
       "\n",
       "Investigated low stock items, considering items with counts less than 10 as low stock.\n",
       "Calculated key performance indicators (KPIs) including Inventory Turnover, Stock-to-Sales Ratio, and Reorder Point.\n",
       "Sales Trends:\n",
       "\n",
       "Visualized sales trends over time, showing a notable increase in sales in the year 2000.\n",
       "### Inventory Metrics Analysis:\n",
       "\n",
       "Analyzed Inventory Turnover, Stock-to-Sales Ratio, and Reorder Point, indicating poor turnover, high stock-to-sales ratio, and moderate reorder point.\n",
       "Product Performance:\n",
       "\n",
       "Explored the relationship between price and sold counts, revealing a negative correlation, suggesting price sensitivity.\n",
       "Price Distribution by Year:\n",
       "\n",
       "Examined the distribution of regular prices by release year, providing insights into pricing trends over time.\n",
       "\n",
       "## Inventory-Driven Insights and Recommendations:\n",
       "### Inventory Optimization:\n",
       "\n",
       "Utilize insights from low stock items to prioritize restocking efforts, ensuring that popular products are readily available to customers.\n",
       "Optimize inventory levels based on the analysis of Inventory Turnover, Stock-to-Sales Ratio, and Reorder Point. Adjust purchasing and stocking strategies to minimize excess inventory while meeting demand.\n",
       "Sales Forecasting:\n",
       "\n",
       "Use historical sales data to forecast future demand accurately. This can aid in maintaining optimal inventory levels, reducing stockouts, and avoiding overstock situations.\n",
       "Price Sensitivity Analysis:\n",
       "\n",
       "Continuously monitor the relationship between price and sold counts to understand customer behavior and price sensitivity. Adjust pricing strategies accordingly to maximize sales volume and revenue.\n",
       "### Dynamic Pricing:\n",
       "\n",
       "Implement dynamic pricing strategies based on demand fluctuations and market conditions. This can help in maximizing profitability while ensuring competitiveness in the market.\n",
       "Seasonal Demand Planning:\n",
       "\n",
       "Identify seasonal trends in sales and adjust inventory levels and marketing strategies accordingly. Anticipate demand fluctuations during peak seasons and align inventory management practices to meet customer needs efficiently.\n",
       "\n",
       "## Business Benefits of Enhanced Inventory Management:\n",
       "### Cost Efficiency:\n",
       "\n",
       "Optimizing inventory levels can reduce holding costs associated with excess inventory while minimizing the risk of stockouts, thus improving cost efficiency.\n",
       "Improved Customer Satisfaction:\n",
       "\n",
       "Ensuring product availability through effective inventory management enhances customer satisfaction by reducing instances of out-of-stock items and fulfilling customer orders promptly.\n",
       "Enhanced Profitability:\n",
       "\n",
       "By accurately forecasting demand, businesses can minimize inventory-related costs and maximize sales revenue, leading to improved profitability.\n",
       "Competitive Advantage:\n",
       "\n",
       "Efficient inventory management allows businesses to respond swiftly to market changes, gain a competitive edge by offering a wider product selection, and maintain competitive pricing strategies.\n",
       "Data-Driven Decision Making:\n",
       "\n",
       "Leveraging data analytics for inventory management enables businesses to make informed decisions, optimize operations, and adapt to evolving market dynamics effectively.\n",
       "In conclusion, implementing data-driven inventory management strategies based on thorough analysis can significantly enhance operational efficiency, customer satisfaction, and profitability for businesses across various industries.\n"
      ],
      "text/plain": [
       "<IPython.core.display.Markdown object>"
      ]
     },
     "execution_count": 1,
     "metadata": {},
     "output_type": "execute_result"
    }
   ],
   "source": [
    "from IPython.display import Markdown\n",
    "#Summary of findings and insights\n",
    "summary = \"\"\"\n",
    "## Summary of Findings:\n",
    "### Data Overview:\n",
    "\n",
    "The dataset contains information about product sales, including SKU numbers, sold counts, item counts, prices, and release years.\n",
    "Initial exploration showed no missing values after filling them using forward fill method.\n",
    "Top Selling Products:\n",
    "\n",
    "Identified the top 15 selling products based on the sum of sold counts.\n",
    "### Inventory Insights:\n",
    "\n",
    "Investigated low stock items, considering items with counts less than 10 as low stock.\n",
    "Calculated key performance indicators (KPIs) including Inventory Turnover, Stock-to-Sales Ratio, and Reorder Point.\n",
    "Sales Trends:\n",
    "\n",
    "Visualized sales trends over time, showing a notable increase in sales in the year 2000.\n",
    "### Inventory Metrics Analysis:\n",
    "\n",
    "Analyzed Inventory Turnover, Stock-to-Sales Ratio, and Reorder Point, indicating poor turnover, high stock-to-sales ratio, and moderate reorder point.\n",
    "Product Performance:\n",
    "\n",
    "Explored the relationship between price and sold counts, revealing a negative correlation, suggesting price sensitivity.\n",
    "Price Distribution by Year:\n",
    "\n",
    "Examined the distribution of regular prices by release year, providing insights into pricing trends over time.\n",
    "\n",
    "## Inventory-Driven Insights and Recommendations:\n",
    "### Inventory Optimization:\n",
    "\n",
    "Utilize insights from low stock items to prioritize restocking efforts, ensuring that popular products are readily available to customers.\n",
    "Optimize inventory levels based on the analysis of Inventory Turnover, Stock-to-Sales Ratio, and Reorder Point. Adjust purchasing and stocking strategies to minimize excess inventory while meeting demand.\n",
    "Sales Forecasting:\n",
    "\n",
    "Use historical sales data to forecast future demand accurately. This can aid in maintaining optimal inventory levels, reducing stockouts, and avoiding overstock situations.\n",
    "Price Sensitivity Analysis:\n",
    "\n",
    "Continuously monitor the relationship between price and sold counts to understand customer behavior and price sensitivity. Adjust pricing strategies accordingly to maximize sales volume and revenue.\n",
    "### Dynamic Pricing:\n",
    "\n",
    "Implement dynamic pricing strategies based on demand fluctuations and market conditions. This can help in maximizing profitability while ensuring competitiveness in the market.\n",
    "Seasonal Demand Planning:\n",
    "\n",
    "Identify seasonal trends in sales and adjust inventory levels and marketing strategies accordingly. Anticipate demand fluctuations during peak seasons and align inventory management practices to meet customer needs efficiently.\n",
    "\n",
    "## Business Benefits of Enhanced Inventory Management:\n",
    "### Cost Efficiency:\n",
    "\n",
    "Optimizing inventory levels can reduce holding costs associated with excess inventory while minimizing the risk of stockouts, thus improving cost efficiency.\n",
    "Improved Customer Satisfaction:\n",
    "\n",
    "Ensuring product availability through effective inventory management enhances customer satisfaction by reducing instances of out-of-stock items and fulfilling customer orders promptly.\n",
    "Enhanced Profitability:\n",
    "\n",
    "By accurately forecasting demand, businesses can minimize inventory-related costs and maximize sales revenue, leading to improved profitability.\n",
    "Competitive Advantage:\n",
    "\n",
    "Efficient inventory management allows businesses to respond swiftly to market changes, gain a competitive edge by offering a wider product selection, and maintain competitive pricing strategies.\n",
    "Data-Driven Decision Making:\n",
    "\n",
    "Leveraging data analytics for inventory management enables businesses to make informed decisions, optimize operations, and adapt to evolving market dynamics effectively.\n",
    "In conclusion, implementing data-driven inventory management strategies based on thorough analysis can significantly enhance operational efficiency, customer satisfaction, and profitability for businesses across various industries.\n",
    "\"\"\"\n",
    "\n",
    "Markdown(summary)"
   ]
  },
  {
   "cell_type": "code",
   "execution_count": null,
   "id": "2dd7b834",
   "metadata": {},
   "outputs": [],
   "source": []
  }
 ],
 "metadata": {
  "kernelspec": {
   "display_name": "Python 3 (ipykernel)",
   "language": "python",
   "name": "python3"
  },
  "language_info": {
   "codemirror_mode": {
    "name": "ipython",
    "version": 3
   },
   "file_extension": ".py",
   "mimetype": "text/x-python",
   "name": "python",
   "nbconvert_exporter": "python",
   "pygments_lexer": "ipython3",
   "version": "3.11.5"
  }
 },
 "nbformat": 4,
 "nbformat_minor": 5
}
